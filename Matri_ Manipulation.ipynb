{
 "cells": [
  {
   "cell_type": "markdown",
   "metadata": {},
   "source": [
    "## This notebook is used to Calculate Page Ranking."
   ]
  },
  {
   "cell_type": "code",
   "execution_count": 2,
   "metadata": {
    "collapsed": false
   },
   "outputs": [],
   "source": [
    "import numpy as np"
   ]
  },
  {
   "cell_type": "code",
   "execution_count": 4,
   "metadata": {
    "collapsed": false
   },
   "outputs": [
    {
     "name": "stdout",
     "output_type": "stream",
     "text": [
      "1.73205080757\n"
     ]
    }
   ],
   "source": [
    "x = np.array([1,5,2])\n",
    "y = np.array([7,4,1])\n",
    "x+y\n",
    "\n",
    "# M is the transfer matrix, there are three nodes.\n",
    "M = np.matrix( ((0,0,0), (0.5, 0,0), (0.5,1,1)) )\n",
    "\n",
    "# now compute the stochastic telejump matrix\n",
    "S=(3,3)\n",
    "A = 0.7*M + 0.3/3*np.ones(S)\n",
    "\n",
    "\n",
    "# initial vector\n",
    "r0=np.matrix([1,1,1])\n",
    "\n",
    "\n",
    "print np.linalg.norm(r0)\n",
    "\n"
   ]
  },
  {
   "cell_type": "code",
   "execution_count": 5,
   "metadata": {
    "collapsed": false
   },
   "outputs": [
    {
     "name": "stdout",
     "output_type": "stream",
     "text": [
      "[[ 0.3  ]\n",
      " [ 0.405]\n",
      " [ 2.295]]\n"
     ]
    }
   ],
   "source": [
    "# compute the stable distribution of node weight\n",
    "\n",
    "r0=np.matrix([1,1,1])\n",
    "r=A*r0.T\n",
    "eps=1e-8\n",
    "while (np.linalg.norm(r-r0)>eps):\n",
    "    r0=r\n",
    "    r=A*r0\n",
    "    \n",
    "print r\n"
   ]
  },
  {
   "cell_type": "code",
   "execution_count": null,
   "metadata": {
    "collapsed": true
   },
   "outputs": [],
   "source": []
  }
 ],
 "metadata": {
  "kernelspec": {
   "display_name": "Python 2",
   "language": "python",
   "name": "python2"
  },
  "language_info": {
   "codemirror_mode": {
    "name": "ipython",
    "version": 2
   },
   "file_extension": ".py",
   "mimetype": "text/x-python",
   "name": "python",
   "nbconvert_exporter": "python",
   "pygments_lexer": "ipython2",
   "version": "2.7.11"
  }
 },
 "nbformat": 4,
 "nbformat_minor": 0
}
