{
 "cells": [
  {
   "cell_type": "markdown",
   "metadata": {},
   "source": [
    "## This notebook is used to Calculate Page Ranking."
   ]
  },
  {
   "cell_type": "code",
   "execution_count": 8,
   "metadata": {
    "collapsed": false
   },
   "outputs": [],
   "source": [
    "import numpy as np"
   ]
  },
  {
   "cell_type": "code",
   "execution_count": 9,
   "metadata": {
    "collapsed": false
   },
   "outputs": [
    {
     "name": "stdout",
     "output_type": "stream",
     "text": [
      "1.73205080757\n"
     ]
    }
   ],
   "source": [
    "x = np.array([1,5,2])\n",
    "y = np.array([7,4,1])\n",
    "x+y\n",
    "\n",
    "# M is the transfer matrix, there are three nodes.\n",
    "M = np.matrix( ((0,0,0), (0.5, 0,0), (0.5,1,1)) )\n",
    "\n",
    "# now compute the stochastic telejump matrix\n",
    "S=(3,3)\n",
    "A = 0.7*M + 0.3/3*np.ones(S)\n",
    "\n",
    "\n",
    "# initial vector\n",
    "r0=np.matrix([1,1,1])\n",
    "\n",
    "\n",
    "print np.linalg.norm(r0)\n",
    "\n"
   ]
  },
  {
   "cell_type": "code",
   "execution_count": 10,
   "metadata": {
    "collapsed": false
   },
   "outputs": [
    {
     "name": "stdout",
     "output_type": "stream",
     "text": [
      "[[ 0.3  ]\n",
      " [ 0.405]\n",
      " [ 2.295]]\n"
     ]
    }
   ],
   "source": [
    "# compute the stable distribution of node weight\n",
    "\n",
    "r0=np.matrix([1,1,1])\n",
    "r=A*r0.T\n",
    "eps=1e-8\n",
    "while (np.linalg.norm(r-r0)>eps):\n",
    "    r0=r\n",
    "    r=A*r0\n",
    "    \n",
    "print r\n"
   ]
  },
  {
   "cell_type": "code",
   "execution_count": 69,
   "metadata": {
    "collapsed": false
   },
   "outputs": [
    {
     "name": "stdout",
     "output_type": "stream",
     "text": [
      "[[1 2]\n",
      " [3 4]]\n",
      "2\n",
      "2\n",
      "matrix dimension : 2 2\n",
      "row 2\n",
      "col 2\n",
      "[[ 1.  2.  1.  0.]\n",
      " [ 3.  4.  0.  1.]]\n",
      "[[1 2]\n",
      " [3 4]]\n"
     ]
    }
   ],
   "source": [
    "a = np.matrix('1,2;3,4')\n",
    "print a\n",
    "\n",
    "# this is how you access the entry in the matrix- M[m,n]\n",
    "print a[0,1]\n",
    "\n",
    "# this is how you find the dimension of the matrx: using numpy.shape-->return a tuple typed data\n",
    "print np.ndim(a)\n",
    "dim= np.shape(a)\n",
    "row = dim[0]\n",
    "col =dim[1]\n",
    "print \"matrix dimension :\", row, col\n",
    "\n",
    "# this is another way to find the matrix dim\n",
    "print \"row\", len(a)\n",
    "print \"col\", len(a.T)\n",
    "\n",
    "# how to concatenate two matrix along y dimension\n",
    "print np.concatenate((a, np.identity(row)), axis=1)\n"
   ]
  },
  {
   "cell_type": "code",
   "execution_count": 86,
   "metadata": {
    "collapsed": false
   },
   "outputs": [
    {
     "name": "stdout",
     "output_type": "stream",
     "text": [
      "[[5 6]\n",
      " [3 4]\n",
      " [1 2]]\n",
      "[[5 6]\n",
      " [3 4]\n",
      " [1 2]]\n"
     ]
    }
   ],
   "source": [
    "# Some utility functions for matrix inversion\n",
    "\n",
    "# swap two rows in a matrix\n",
    "def swap_rows(M, x, y):\n",
    "    M[[y,x]]=M[[x,y]]\n",
    "    return M\n",
    "\n",
    "a = np.matrix('1,2;3,4;5,6')\n",
    "b=swap_rows(a, 0, 2)\n",
    "print a\n",
    "print b\n"
   ]
  },
  {
   "cell_type": "code",
   "execution_count": 31,
   "metadata": {
    "collapsed": false
   },
   "outputs": [
    {
     "ename": "IndentationError",
     "evalue": "expected an indented block (<ipython-input-31-4b21dc6c16fa>, line 4)",
     "output_type": "error",
     "traceback": [
      "\u001b[1;36m  File \u001b[1;32m\"<ipython-input-31-4b21dc6c16fa>\"\u001b[1;36m, line \u001b[1;32m4\u001b[0m\n\u001b[1;33m    \u001b[0m\n\u001b[1;37m    ^\u001b[0m\n\u001b[1;31mIndentationError\u001b[0m\u001b[1;31m:\u001b[0m expected an indented block\n"
     ]
    }
   ],
   "source": [
    "# Function to compute the inverse of matrix X\n",
    "\n",
    "def inverse(X):\n",
    "    dim= np.shape(X)\n",
    "    row = dim[0]\n",
    "    col =dim[1]\n",
    "     \n",
    "    Y = np.concatenate((X, np.identity(row)), axis=1)\n",
    "    \n",
    "    for j in range(col):\n",
    "        for i in range(row):\n",
    "            if i!=j:\n",
    "                if Y[i,j]!=0:\n",
    "                    \n",
    "                    "
   ]
  },
  {
   "cell_type": "code",
   "execution_count": null,
   "metadata": {
    "collapsed": true
   },
   "outputs": [],
   "source": []
  }
 ],
 "metadata": {
  "kernelspec": {
   "display_name": "Python 2",
   "language": "python",
   "name": "python2"
  },
  "language_info": {
   "codemirror_mode": {
    "name": "ipython",
    "version": 2
   },
   "file_extension": ".py",
   "mimetype": "text/x-python",
   "name": "python",
   "nbconvert_exporter": "python",
   "pygments_lexer": "ipython2",
   "version": "2.7.11"
  }
 },
 "nbformat": 4,
 "nbformat_minor": 0
}
